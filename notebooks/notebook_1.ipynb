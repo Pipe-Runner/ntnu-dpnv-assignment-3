{
 "cells": [
  {
   "cell_type": "markdown",
   "metadata": {},
   "source": [
    "# Assignment 3 - Regression"
   ]
  },
  {
   "cell_type": "markdown",
   "metadata": {},
   "source": [
    "Course \"Data processing and Visualization\", IE500417, NTNU. Fall 2021\n",
    "\n",
    "https://www.ntnu.edu/studies/courses/IE500417"
   ]
  },
  {
   "cell_type": "markdown",
   "metadata": {},
   "source": [
    "**Note: plagiarism is strictly forbidden! You should never copy any source code from other students. If you use any code written by others (except the standards libraries: NumPy, SciPy, Pandas, etc), provide a reference.**\n",
    "\n",
    "**If the teachers see that your work is mostly copy+paste from online code snippets, the grade can be reduced.**\n",
    "\n",
    "**If a case of plagiarism is detected, it will be reported to the administration.**"
   ]
  },
  {
   "cell_type": "markdown",
   "metadata": {},
   "source": [
    "## Task description"
   ]
  },
  {
   "cell_type": "markdown",
   "metadata": {},
   "source": [
    "In this assignment you will practice regression modelling. We will use a [data set on life expectancy from WHO]. It has been adjusted from the original datasets. The tasks will be to develop different regression models to predict life expectancy of different countries in different years based on their attributes:\n",
    "1. Simple linear regresion: predict life expectancy with a given adult mortality\n",
    "2. Calculate residual sum of squares (RSS) to assess model accuracy\n",
    "3. Compare several polynomial models, find the one with the best RSS\n",
    "4. Use multiple regression to predict life expectancy based on several features\n",
    "5. Use Lasso regression to select a subset of features which are relevant for predicting life expectancy\n",
    "6. Use Lasso regression to select a subset of specific size with most relevant features"
   ]
  },
  {
   "cell_type": "markdown",
   "metadata": {},
   "source": [
    "## Submission details"
   ]
  },
  {
   "cell_type": "markdown",
   "metadata": {},
   "source": [
    "The assignment must be handed in on Blackboard. The following must be handed in:\n",
    "1. Report in PDF or HTML format describing the results of this assignment. Preferably, it is generated from the Jupyter notebook you used (Hint: In Jupyter: File > Download as > HTML). Alternatively (if you use plain Python or other tools), prepare a readable report that contains figures and source code snippets necessary to understand your work.\n",
    "2. Source code that you used to generate the results. This could be the the Jupyter notebook file, python source files, Matlab files, etc.\n",
    "\n",
    "Deadlines and grading information on Blackboard."
   ]
  },
  {
   "cell_type": "markdown",
   "metadata": {},
   "source": [
    "## Detailed steps"
   ]
  },
  {
   "cell_type": "markdown",
   "metadata": {},
   "source": [
    "### Step 0: Prepare the data"
   ]
  },
  {
   "cell_type": "code",
   "execution_count": 51,
   "metadata": {},
   "outputs": [],
   "source": [
    "import pandas as pd\n",
    "import numpy as np\n",
    "from pathlib import Path\n",
    "import math\n",
    "from sklearn.linear_model import (LinearRegression, Lasso)\n",
    "import warnings\n",
    "\n",
    "def warn(*args, **kwargs):\n",
    "    pass\n",
    "import warnings\n",
    "warnings.warn = warn"
   ]
  },
  {
   "cell_type": "code",
   "execution_count": 52,
   "metadata": {},
   "outputs": [
    {
     "name": "stdout",
     "output_type": "stream",
     "text": [
      "Number of samples: 2938\n"
     ]
    }
   ],
   "source": [
    "# Read CSV file from Life-Expectancy-Data\n",
    "DATA_DIR = Path(\"../data\")\n",
    "Life_data = pd.read_csv(DATA_DIR / \"Life-Expectancy-Data.csv\")\n",
    "print(\"Number of samples:\", len(Life_data))"
   ]
  },
  {
   "cell_type": "code",
   "execution_count": 53,
   "metadata": {},
   "outputs": [
    {
     "name": "stdout",
     "output_type": "stream",
     "text": [
      "<class 'pandas.core.frame.DataFrame'>\n",
      "RangeIndex: 2938 entries, 0 to 2937\n",
      "Data columns (total 23 columns):\n",
      " #   Column                           Non-Null Count  Dtype  \n",
      "---  ------                           --------------  -----  \n",
      " 0   ID                               2938 non-null   int64  \n",
      " 1   Country                          2938 non-null   object \n",
      " 2   Year                             2938 non-null   int64  \n",
      " 3   Status                           2938 non-null   object \n",
      " 4   Life_expectancy                  2938 non-null   float64\n",
      " 5   Adult_Mortality                  2938 non-null   float64\n",
      " 6   infant_deaths                    2938 non-null   int64  \n",
      " 7   Alcohol                          2938 non-null   float64\n",
      " 8   percentage_expenditure           2938 non-null   float64\n",
      " 9   Hepatitis_B                      2938 non-null   int64  \n",
      " 10  Measles                          2938 non-null   int64  \n",
      " 11  BMI                              2938 non-null   float64\n",
      " 12  under-five_deaths                2938 non-null   int64  \n",
      " 13  Polio                            2938 non-null   int64  \n",
      " 14  Total_expenditure                2938 non-null   float64\n",
      " 15  Diphtheria                       2938 non-null   int64  \n",
      " 16  HIV/AIDS                         2938 non-null   float64\n",
      " 17  GDP                              2505 non-null   float64\n",
      " 18  Population                       2318 non-null   float64\n",
      " 19  thinness_1-19_years              2938 non-null   float64\n",
      " 20  thinness_5-9 years               2938 non-null   float64\n",
      " 21  Income_composition_of_resources  2938 non-null   float64\n",
      " 22  Schooling                        2938 non-null   float64\n",
      "dtypes: float64(13), int64(8), object(2)\n",
      "memory usage: 528.0+ KB\n"
     ]
    }
   ],
   "source": [
    "Life_data.info()"
   ]
  },
  {
   "cell_type": "markdown",
   "metadata": {},
   "source": [
    "The ID attribute is not useful for processing. GDP and Population data are not complete. So, we remove them from the fields."
   ]
  },
  {
   "cell_type": "code",
   "execution_count": 54,
   "metadata": {},
   "outputs": [],
   "source": [
    "Life_data = Life_data.drop([\"ID\",\"GDP\",\"Population\"], axis=\"columns\")"
   ]
  },
  {
   "cell_type": "markdown",
   "metadata": {},
   "source": [
    "We will later need three sub-sets of data: training data, validation data (to select best lambda for parametrized models) and test data. We will split the data into these three subsets: 60% for training, 20% for validation, 20% for testing."
   ]
  },
  {
   "cell_type": "markdown",
   "metadata": {},
   "source": [
    "We use the DataFrame.sample() function to split the dataset. The `random_state` values are used for reproducibility. All the students should get the same three subsets of data. "
   ]
  },
  {
   "cell_type": "code",
   "execution_count": 55,
   "metadata": {},
   "outputs": [],
   "source": [
    "train_data = Life_data.sample(frac=0.6, random_state=12)\n",
    "valid_and_test = Life_data.drop(train_data.index)\n",
    "valid_data = valid_and_test.sample(frac=0.5, random_state=62)\n",
    "test_data = valid_and_test.drop(valid_data.index)"
   ]
  },
  {
   "cell_type": "markdown",
   "metadata": {},
   "source": [
    "Now we check the statistics for the original data and subsets."
   ]
  },
  {
   "cell_type": "code",
   "execution_count": 56,
   "metadata": {},
   "outputs": [
    {
     "data": {
      "text/plain": [
       "count    2938.000000\n",
       "mean       69.205412\n",
       "std         9.530749\n",
       "min        36.300000\n",
       "25%        63.025000\n",
       "50%        72.050000\n",
       "75%        75.600000\n",
       "max        89.000000\n",
       "Name: Life_expectancy, dtype: float64"
      ]
     },
     "execution_count": 56,
     "metadata": {},
     "output_type": "execute_result"
    }
   ],
   "source": [
    "Life_data[\"Life_expectancy\"].describe()"
   ]
  },
  {
   "cell_type": "code",
   "execution_count": 57,
   "metadata": {},
   "outputs": [
    {
     "data": {
      "text/plain": [
       "count    1763.000000\n",
       "mean       69.160976\n",
       "std         9.521075\n",
       "min        39.000000\n",
       "25%        62.950000\n",
       "50%        72.000000\n",
       "75%        75.600000\n",
       "max        89.000000\n",
       "Name: Life_expectancy, dtype: float64"
      ]
     },
     "execution_count": 57,
     "metadata": {},
     "output_type": "execute_result"
    }
   ],
   "source": [
    "train_data[\"Life_expectancy\"].describe()"
   ]
  },
  {
   "cell_type": "code",
   "execution_count": 58,
   "metadata": {},
   "outputs": [
    {
     "data": {
      "text/plain": [
       "count    588.000000\n",
       "mean      69.571939\n",
       "std        9.366176\n",
       "min       42.300000\n",
       "25%       63.800000\n",
       "50%       72.200000\n",
       "75%       75.800000\n",
       "max       89.000000\n",
       "Name: Life_expectancy, dtype: float64"
      ]
     },
     "execution_count": 58,
     "metadata": {},
     "output_type": "execute_result"
    }
   ],
   "source": [
    "valid_data[\"Life_expectancy\"].describe()"
   ]
  },
  {
   "cell_type": "code",
   "execution_count": 59,
   "metadata": {},
   "outputs": [
    {
     "data": {
      "text/plain": [
       "count    587.000000\n",
       "mean      68.971721\n",
       "std        9.727240\n",
       "min       36.300000\n",
       "25%       63.100000\n",
       "50%       72.000000\n",
       "75%       75.400000\n",
       "max       89.000000\n",
       "Name: Life_expectancy, dtype: float64"
      ]
     },
     "execution_count": 59,
     "metadata": {},
     "output_type": "execute_result"
    }
   ],
   "source": [
    "test_data[\"Life_expectancy\"].describe()"
   ]
  },
  {
   "cell_type": "markdown",
   "metadata": {},
   "source": [
    "Except the min and max values, Life expectancy are quite ok distributed in the subsets. "
   ]
  },
  {
   "cell_type": "markdown",
   "metadata": {},
   "source": [
    "Note: your algorithms should be efficient! For example, when you calculate RSS or create feature matrix (you will see that later), if you do the calculations element-by-element, you will have very slow code. You should use the power of Pandas and Numpy packages and do operations on lists directly. One example: if you want to create a new column called `c` in a dataframe which is a sum of two other columns `a` and `b`, this is a more efficient way:"
   ]
  },
  {
   "cell_type": "code",
   "execution_count": 60,
   "metadata": {},
   "outputs": [],
   "source": [
    "# dataframe[\"c\"] = dataframe[\"a\"] + dataframe[\"b\"]"
   ]
  },
  {
   "cell_type": "markdown",
   "metadata": {},
   "source": [
    "This would also work (assuming that rows are indexed by numbers, not timestamps, etc), but will be much slower:"
   ]
  },
  {
   "cell_type": "code",
   "execution_count": 61,
   "metadata": {},
   "outputs": [],
   "source": [
    "# dataframe[\"c\"] = 0\n",
    "# for i in range(len(dataframe)):\n",
    "#    dataframe[\"c\"][i] = dataframe[\"a\"][i] + dataframe[\"b\"][i]"
   ]
  },
  {
   "cell_type": "markdown",
   "metadata": {},
   "source": [
    "### Step 1: Linear regression"
   ]
  },
  {
   "cell_type": "markdown",
   "metadata": {},
   "source": [
    "**The task**: create a linear model that predicts life expectancy of a country at a year based on its adult mortality (attribute `Adult_Mortality`). \n",
    "Train the model on TRAINING data set!\n",
    "\n",
    "When you are done, store the intercept and slope (weights w0 and w1) in variables `am_w0` and `am_w1` respectively."
   ]
  },
  {
   "cell_type": "code",
   "execution_count": 62,
   "metadata": {},
   "outputs": [],
   "source": [
    "# TODO - your code here\n",
    "train_X = train_data[\"Adult_Mortality\"].values.reshape(-1, 1)\n",
    "train_Y = train_data[\"Life_expectancy\"]\n",
    "reg = LinearRegression().fit(train_X, train_Y)\n",
    "\n",
    "am_w0 = reg.intercept_\n",
    "am_w1 = reg.coef_"
   ]
  },
  {
   "cell_type": "code",
   "execution_count": 63,
   "metadata": {},
   "outputs": [
    {
     "name": "stdout",
     "output_type": "stream",
     "text": [
      "Linear model: life expectancy = 77.774280 + -0.524536 * Adult_Mortality\n"
     ]
    }
   ],
   "source": [
    "print(\"Linear model: life expectancy = %f + %f * Adult_Mortality\" % (am_w0, am_w1))"
   ]
  },
  {
   "cell_type": "markdown",
   "metadata": {},
   "source": [
    "**Quiz questions**: \n",
    "1. Look at the data. How can you interpret the slope coefficient `am_w1`? It will probably be around -0.52. What does it mean?\n",
    "2. What is the maximum life expectancy for this linear model to make sense?"
   ]
  },
  {
   "cell_type": "markdown",
   "metadata": {},
   "source": [
    "**--- YOUR ANSWER HERE ---**\n",
    "1. The slope -0.52 tells us that for every increase in Adult Mortality Rate by 1, we see a 0.52 years decrease in Life Expectancy.\n",
    "2. The maximum life expectancy for the linear model will be the y intercept which is 77.77428 in this case"
   ]
  },
  {
   "cell_type": "markdown",
   "metadata": {},
   "source": [
    "Now we can calculate predicted life expectancy and take a look at the regression line. First, we sort the values by mortality, to get a reasonable line in the plot."
   ]
  },
  {
   "cell_type": "code",
   "execution_count": 64,
   "metadata": {},
   "outputs": [],
   "source": [
    "train_am_sorted = train_data.sort_values(\"Adult_Mortality\")\n",
    "predicted_life = am_w0 + am_w1 * train_am_sorted[\"Adult_Mortality\"]"
   ]
  },
  {
   "cell_type": "code",
   "execution_count": 65,
   "metadata": {},
   "outputs": [],
   "source": [
    "import matplotlib.pyplot as plt\n",
    "%matplotlib inline"
   ]
  },
  {
   "cell_type": "code",
   "execution_count": 66,
   "metadata": {},
   "outputs": [],
   "source": [
    "# Plot a linear model that predicts life expectancy based on adult mortality\n",
    "def plot_am_model(amr, predicted_life, observed_life):\n",
    "    plt.figure(figsize=(5,5))\n",
    "    plt.plot(amr, observed_life, \"c.\")\n",
    "    plt.plot(amr, predicted_life, \"k-\")\n",
    "    plt.xlabel(\"Adult mortality rate\")\n",
    "    plt.ylabel(\"Life expectancy, years\")\n",
    "    plt.plot()"
   ]
  },
  {
   "cell_type": "code",
   "execution_count": 67,
   "metadata": {},
   "outputs": [
    {
     "data": {
      "image/png": "[encoded data removed]",
      "text/plain": [
       "<Figure size 500x500 with 1 Axes>"
      ]
     },
     "metadata": {},
     "output_type": "display_data"
    }
   ],
   "source": [
    "plot_am_model(train_am_sorted[\"Adult_Mortality\"], predicted_life, train_am_sorted[\"Life_expectancy\"])"
   ]
  },
  {
   "cell_type": "markdown",
   "metadata": {},
   "source": [
    "### Step 2: Calculate residual sum of squares (RSS) to assess model accuracy"
   ]
  },
  {
   "cell_type": "markdown",
   "metadata": {},
   "source": [
    "One way to estimate error for a given model is to calculate residual sum of squares (RSS). The general formula:\n",
    "\n",
    "\\begin{equation*}\n",
    " RSS = \\sum_{i=1}^n r_i^2 = \\sum_{i=1}^n (y_i - \\hat{y}_i)^2\n",
    "\\end{equation*}\n",
    "\n",
    "Where $r_i$ is the i-th residual, $y_i$ is the i-th observed output, $\\hat{y}_i$ is the i-th output predicted by the model. \n",
    "\n",
    "In this simple case of linear regression with single input attribute:\n",
    "\n",
    "\\begin{equation*}\n",
    " RSS = \\sum_{i=1}^n (y_i - (w_0 + w_1 * x_i))^2\n",
    "\\end{equation*}\n"
   ]
  },
  {
   "cell_type": "markdown",
   "metadata": {},
   "source": [
    "But before we can calculate RSS, we need to calculate values predicted by our linear model.\n",
    "\n",
    "**Your task:** Calculated life expectancy predicted by the linear model in the TEST data set. Hint: use \"Adult_Mortality\" column from `test_data` DataFrame."
   ]
  },
  {
   "cell_type": "code",
   "execution_count": 68,
   "metadata": {},
   "outputs": [],
   "source": [
    "# TODO - Your code here\n",
    "test_X = test_data[\"Adult_Mortality\"].values.reshape(-1, 1)\n",
    "predicted_test_life = reg.predict(test_X)"
   ]
  },
  {
   "cell_type": "markdown",
   "metadata": {},
   "source": [
    "**Your task:** Write a function that calculates the residual sum of squares."
   ]
  },
  {
   "cell_type": "code",
   "execution_count": 69,
   "metadata": {},
   "outputs": [],
   "source": [
    "# Function that calculates residual sum of squares\n",
    "# param y: the observer outputs\n",
    "# param y_hat: the outputs predicted by a model\n",
    "# return: RSS value, floating point\n",
    "def rss(y, y_hat):\n",
    "    return (y_hat - y).pow(2).sum()"
   ]
  },
  {
   "cell_type": "markdown",
   "metadata": {},
   "source": [
    "Now we can calculate the RSS using test data set."
   ]
  },
  {
   "cell_type": "code",
   "execution_count": 70,
   "metadata": {},
   "outputs": [
    {
     "name": "stdout",
     "output_type": "stream",
     "text": [
      "RSS for our linear model for TEST data: 2.625196e+04\n"
     ]
    }
   ],
   "source": [
    "observed_test_life = test_data[\"Life_expectancy\"]\n",
    "rss_simple = rss(observed_test_life, predicted_test_life)\n",
    "print(\"RSS for our linear model for TEST data: %e\" % rss_simple)"
   ]
  },
  {
   "cell_type": "markdown",
   "metadata": {},
   "source": [
    "We can also look at the mean absolute error (MAE):\n",
    "\\begin{equation*}\n",
    " MAE = \\frac{1}{n}\\sum_{i=1}^n |y_i - \\hat{y}_i|\n",
    "\\end{equation*}"
   ]
  },
  {
   "cell_type": "code",
   "execution_count": 71,
   "metadata": {},
   "outputs": [
    {
     "name": "stdout",
     "output_type": "stream",
     "text": [
      "On average, our model predicts life expectancy 4.8 years away from the observed value\n"
     ]
    }
   ],
   "source": [
    "# Calculate Mean Absolute error based on observed (sampled) and model-predicted life expectancy\n",
    "# return: a floating point number\n",
    "def MAE(observed_life, predicted_life):\n",
    "    n = len(observed_life)\n",
    "    differences = observed_life - predicted_life\n",
    "    absolute_differences = differences.abs()\n",
    "    return absolute_differences.sum() / n\n",
    "    \n",
    "mae = MAE(observed_test_life, predicted_test_life)\n",
    "print(\"On average, our model predicts life expectancy %.1f years away from the observed value\" % mae)"
   ]
  },
  {
   "cell_type": "markdown",
   "metadata": {},
   "source": [
    "Although the error seems to be quite large in absolute numbers, if we look at the life expectancy and linear model chart above, it is not that surprising. The point cloud is wide and the line is indeed not a very accurate representation."
   ]
  },
  {
   "cell_type": "markdown",
   "metadata": {},
   "source": [
    "Let us do some unit-testing to check if you got expected results:"
   ]
  },
  {
   "cell_type": "code",
   "execution_count": 72,
   "metadata": {},
   "outputs": [],
   "source": [
    "assert predicted_test_life.sum() >= 37000\n",
    "assert predicted_test_life.sum() <= 42000\n",
    "\n",
    "assert rss_simple >= 2.3e4\n",
    "assert rss_simple <= 2.8e4\n",
    "\n",
    "assert mae >= 4\n",
    "assert mae <= 6"
   ]
  },
  {
   "cell_type": "markdown",
   "metadata": {},
   "source": [
    "### Step 3: Compare several polynomial models, find the one with the best RSS"
   ]
  },
  {
   "cell_type": "markdown",
   "metadata": {},
   "source": [
    "In this task we will look at polynomial relationships between adult mortality and life expectancy. To do that, we will create generated features. Feature h1 in the data will be $adult\\_mortality$, h2 will be $adult\\_mortality^2$, etc. We will prepare a feature matrix that we can use for regression calculations. \n",
    "\n",
    "**Task:** First, let's create a function that generates feature matrix containing polynomial with given powers of a single input attribute. For example, if we pass `adult_mortality` samples as input attribute and specify `powers=[1, 3, 4]`, then we should get a matrix with three columns out: $adult\\_mortality, adult\\_mortality^3, adult\\_mortality^4 $."
   ]
  },
  {
   "cell_type": "code",
   "execution_count": 73,
   "metadata": {},
   "outputs": [],
   "source": [
    "# A function that takes one input feature and returns a matrix. Each column in the matrix is a power of the input attribute\n",
    "# param input_attr_col - one column of data, input attribute samples. Either pandas.Series or Numpy array\n",
    "# param powers - a list (array) containing the desired powers to be created\n",
    "# \n",
    "# Return a DataFrame containing the feature matrix. Use column names h1, h2, h7, etc: hX means \n",
    "#  \"input attribute to the power X\"\n",
    "def create_feature_matrix(input_attr_col, powers):\n",
    "    df = pd.DataFrame()\n",
    "    for power in powers:\n",
    "        df[f\"h{power}\"] = np.power(input_attr_col, power)\n",
    "    return df"
   ]
  },
  {
   "cell_type": "markdown",
   "metadata": {},
   "source": [
    "Let's create some tests to see if the function works correctly. If the next code block fails to execute, you probably have an error in your `creat_feature_matrix` function."
   ]
  },
  {
   "cell_type": "code",
   "execution_count": 74,
   "metadata": {},
   "outputs": [],
   "source": [
    "a = np.array([1, 2, -5])\n",
    "a1 = create_feature_matrix(a, [1])\n",
    "a2 = create_feature_matrix(a, [1, 3, 5])\n",
    "a3 = create_feature_matrix(a, [4, 2])\n",
    "\n",
    "a1_exp = pd.DataFrame(data = {\"h1\" : a})\n",
    "a2_exp = pd.DataFrame(data = {\"h1\" : a, \"h3\" : a ** 3, \"h5\": a ** 5})\n",
    "a3_exp = pd.DataFrame(data = {\"h4\" : a ** 4, \"h2\" : a ** 2})\n",
    "\n",
    "assert a1_exp.equals(a1)\n",
    "assert a2_exp.equals(a2)\n",
    "assert a3_exp.equals(a3)"
   ]
  },
  {
   "cell_type": "markdown",
   "metadata": {},
   "source": [
    "We can also define a function that will predict outcomes based on input feature matrix and weights found by a model."
   ]
  },
  {
   "cell_type": "code",
   "execution_count": 75,
   "metadata": {},
   "outputs": [],
   "source": [
    "def predict(input_features, weights):\n",
    "    # Prediction is a dot product of feature matrix and weight vector\n",
    "    return input_features.dot(weights)"
   ]
  },
  {
   "cell_type": "markdown",
   "metadata": {},
   "source": [
    "For convenience you can use this method to print the polynomial formula that you got:"
   ]
  },
  {
   "cell_type": "code",
   "execution_count": 76,
   "metadata": {},
   "outputs": [],
   "source": [
    "# Take weights and intercept that the linear regression returned, print the resulting \n",
    "# polynomial formula in a (relatively) nice way\n",
    "# param weights: numpy array of weights w0, w1, w2, ..., wD (coefficients), in increasing order. \n",
    "# Note: the intercept is included here as well (as coefficient w0)\n",
    "def poly_print(weights):\n",
    "    print(np.poly1d(np.flip(weights, 0)))\n",
    "    print(\"\")"
   ]
  },
  {
   "cell_type": "markdown",
   "metadata": {},
   "source": [
    "There is one tricky thing - it is easier to predict outcome if the intercept is also included in the feature matrix as a column with constant 1 as the values. To do that properly, make sure that:\n",
    "1. When you create feature matrix, include 0 in the `powers` array. It will create a column with ones.\n",
    "2. When fitting the model, notify the model that it does not have to calculate intercept explicitly. For example, if you use `sklearn.linear_model.LinarRegression.fit()` function, set parameter `fit_intercept=False`.\n",
    "\n",
    "Now that we have the helper functions, we will create several polynomial regression models and find the best one. The degree of the polynomial is a parameter for our model. Therefore we will use the VALIDATION set when calculating, which polynomial gives the most accurate result. When we have found the best polynomial, we will evaluate its accuracy on the TEST data set.\n",
    "\n",
    "**Task for you now**.\n",
    "Variable `max_power` will iterate from 1 to 20. For each `max_power` value:\n",
    "1. Generate feature matrix that contains the mortality rate of training data (`Adult_Mortality` column) polynomial with all powers from 1 to `max_power`. For example, if `max_power == 3`, you should have a feature matrix containing \\[constant 1, $Adult\\_Mortality$, $Adult\\_Mortality^2$ and $Adult\\_Mortality^3$\\].\n",
    "2. Fit a linear model using the feature matrix as input and life expectancy as predictable output. Hint: use [`sklearn.linear_model.LinearRegression`](http://scikit-learn.org/stable/modules/generated/sklearn.linear_model.LinearRegression.html)\n",
    "3. Predict output by the model on VALIDATION set. Hint: you need to generate a new feature matrix for the validation set.\n",
    "4. Calculate RSS for the model on VALIDATION set.\n",
    "5. Compare it with the best RSS found so far. If this RSS is better, save this model as the best one.\n",
    "\n",
    "At the end of this procedure, save information about the best model:\n",
    "1. Store minimum RSS in variable `best_rss`.\n",
    "2. Store best polynomial degree (power) in variable `best_max_power`.\n",
    "3. Store weights (coefficients) found by the model in variable `poly_weights`.\n",
    "4. Calculate RSS for the best polynomial model on TEST data. Store it in variable `best_poly_rss`.\n",
    "\n",
    "Then plot the observed samples and regression curve. Hint: for a better plot you may want to generate a list of increasing mortality values: from 0 to 70, with step 0.1 ([`numpy.arange()`](https://docs.scipy.org/doc/numpy/reference/generated/numpy.arange.html) function may be handy). Then generate a feature matrix from it and predict life expectancy based on your model. Then plot the life expectancy VS adult mortality."
   ]
  },
  {
   "cell_type": "code",
   "execution_count": 77,
   "metadata": {},
   "outputs": [
    {
     "data": {
      "image/png": "[encoded data removed]",
      "text/plain": [
       "<Figure size 500x500 with 1 Axes>"
      ]
     },
     "metadata": {},
     "output_type": "display_data"
    }
   ],
   "source": [
    "best_rss = None\n",
    "best_max_power = None\n",
    "poly_weights = None\n",
    "\n",
    "train_Y = train_data[\"Life_expectancy\"]\n",
    "val_Y = valid_data[\"Life_expectancy\"]\n",
    "test_Y = test_data[\"Life_expectancy\"]\n",
    "\n",
    "for max_power in range(1, 21):\n",
    "    power_array = [i for i in range(0, max_power + 1)]\n",
    "    train_X = create_feature_matrix(train_data[\"Adult_Mortality\"], power_array)\n",
    "    \n",
    "    reg = LinearRegression(fit_intercept=False).fit(train_X, train_Y)\n",
    "    \n",
    "    val_X = create_feature_matrix(valid_data[\"Adult_Mortality\"], power_array)\n",
    "    predictions = predict(val_X, reg.coef_)\n",
    "    \n",
    "    rss_calculated = rss(val_Y, predictions)\n",
    "    \n",
    "    if best_rss is None or rss_calculated < best_rss:\n",
    "        best_rss = rss_calculated\n",
    "        best_max_power = max_power\n",
    "        poly_weights = reg.coef_\n",
    "\n",
    "# Plotting on test data\n",
    "power_array = [i for i in range(0, best_max_power + 1)]\n",
    "test_sorted = test_data.sort_values(\"Adult_Mortality\")\n",
    "test_X_sorted = create_feature_matrix(test_sorted[\"Adult_Mortality\"], power_array)\n",
    "predictions = predict(test_X_sorted, poly_weights)\n",
    "plot_am_model(test_sorted[\"Adult_Mortality\"], predictions, test_sorted[\"Life_expectancy\"])\n",
    "\n",
    "best_poly_rss = rss(test_sorted[\"Life_expectancy\"], predictions)"
   ]
  },
  {
   "cell_type": "code",
   "execution_count": 78,
   "metadata": {},
   "outputs": [
    {
     "name": "stdout",
     "output_type": "stream",
     "text": [
      "Best model found for polynomial with degree 8\n",
      "It has RSS for TEST data: 1.882467e+04\n",
      "The polynomial:\n",
      "           8             7             6             5            4\n",
      "1.347e-10 x - 3.872e-08 x + 4.552e-06 x - 0.0002814 x + 0.009761 x\n",
      "           3         2\n",
      " - 0.1862 x + 1.737 x - 6.033 x + 76.51\n",
      "\n"
     ]
    }
   ],
   "source": [
    "print(\"Best model found for polynomial with degree %i\" % (best_max_power))\n",
    "print(\"It has RSS for TEST data: %e\" % (best_poly_rss))\n",
    "print(\"The polynomial:\")\n",
    "poly_print(poly_weights)"
   ]
  },
  {
   "cell_type": "markdown",
   "metadata": {},
   "source": [
    "Let's run some unit tests to see if your answer is according to the expectation:"
   ]
  },
  {
   "cell_type": "code",
   "execution_count": 79,
   "metadata": {},
   "outputs": [
    {
     "name": "stdout",
     "output_type": "stream",
     "text": [
      "All tests passed, the calculations are correct!\n"
     ]
    }
   ],
   "source": [
    "assert best_max_power == 8\n",
    "\n",
    "assert poly_weights[0] >= 76\n",
    "assert poly_weights[0] <= 77\n",
    "assert poly_weights[1] >= -7\n",
    "assert poly_weights[1] <= -6\n",
    "assert poly_weights[2] >= 1.7\n",
    "assert poly_weights[2] <= 1.8\n",
    "assert poly_weights[3] >= -0.19\n",
    "assert poly_weights[3] <= -0.18\n",
    "assert poly_weights[4] >= 0.009\n",
    "assert poly_weights[4] <= 0.01\n",
    "\n",
    "assert best_poly_rss >= 1.8e4\n",
    "assert best_poly_rss <= 1.9e4\n",
    "\n",
    "print (\"All tests passed, the calculations are correct!\")"
   ]
  },
  {
   "cell_type": "markdown",
   "metadata": {},
   "source": [
    "### Step 4: Use multiple regression to predict life expectancy based on several features"
   ]
  },
  {
   "cell_type": "markdown",
   "metadata": {},
   "source": [
    "In this part you will predict life expectancy based on several attributes. \n",
    "\n",
    "**Do the following**:\n",
    "1. Create a linear model of predicting life expectancy based on adult mortality and infant deaths (`Adult_Mortality` and `infant_deaths` columns). Fit the model on TRAINING data.\n",
    "2. Calculate RSS for this model on VALIDATION data, store it in variable `adult_infant_rss`.\n",
    "3. Create another model: use attributes `Adult_Mortality`, `infant_deaths` and `BMI`. Fit it on TRAINING data.\n",
    "4. Calculate RSS for this model on VALIATION data, store it in variable `adult_infant_bmi_rss`.\n",
    "5. Compare the accuracy (RSS values) of the two models. Which one provides higher accuracy on average?\n",
    "6. There is a country in a certain year in the validation data with adult mortality 9.2, infant deaths 231, and attribute `BMI` is 28.1, life expectancy: 75.0 years old. What life expectancy do your two models predict for this country? Which model's predicted life expectancy is closer to the ground truth value (75.0)?\n",
    "7. Calculate RSS of the best model on TEST data. Store it in variable `best_multi_rss`."
   ]
  },
  {
   "cell_type": "code",
   "execution_count": 80,
   "metadata": {},
   "outputs": [
    {
     "name": "stdout",
     "output_type": "stream",
     "text": [
      "Reference Life: \n"
     ]
    },
    {
     "data": {
      "text/html": [
       "<div>\n",
       "<style scoped>\n",
       "    .dataframe tbody tr th:only-of-type {\n",
       "        vertical-align: middle;\n",
       "    }\n",
       "\n",
       "    .dataframe tbody tr th {\n",
       "        vertical-align: top;\n",
       "    }\n",
       "\n",
       "    .dataframe thead th {\n",
       "        text-align: right;\n",
       "    }\n",
       "</style>\n",
       "<table border=\"1\" class=\"dataframe\">\n",
       "  <thead>\n",
       "    <tr style=\"text-align: right;\">\n",
       "      <th></th>\n",
       "      <th>Country</th>\n",
       "      <th>Year</th>\n",
       "      <th>Status</th>\n",
       "      <th>Life_expectancy</th>\n",
       "      <th>Adult_Mortality</th>\n",
       "      <th>infant_deaths</th>\n",
       "      <th>Alcohol</th>\n",
       "      <th>percentage_expenditure</th>\n",
       "      <th>Hepatitis_B</th>\n",
       "      <th>Measles</th>\n",
       "      <th>BMI</th>\n",
       "      <th>under-five_deaths</th>\n",
       "      <th>Polio</th>\n",
       "      <th>Total_expenditure</th>\n",
       "      <th>Diphtheria</th>\n",
       "      <th>HIV/AIDS</th>\n",
       "      <th>thinness_1-19_years</th>\n",
       "      <th>thinness_5-9 years</th>\n",
       "      <th>Income_composition_of_resources</th>\n",
       "      <th>Schooling</th>\n",
       "    </tr>\n",
       "  </thead>\n",
       "  <tbody>\n",
       "    <tr>\n",
       "      <th>565</th>\n",
       "      <td>China</td>\n",
       "      <td>2010</td>\n",
       "      <td>Developing</td>\n",
       "      <td>75.0</td>\n",
       "      <td>9.2</td>\n",
       "      <td>231</td>\n",
       "      <td>5.75</td>\n",
       "      <td>5.660755</td>\n",
       "      <td>99</td>\n",
       "      <td>38159</td>\n",
       "      <td>28.1</td>\n",
       "      <td>268</td>\n",
       "      <td>99</td>\n",
       "      <td>4.89</td>\n",
       "      <td>99</td>\n",
       "      <td>0.1</td>\n",
       "      <td>4.2</td>\n",
       "      <td>3.6</td>\n",
       "      <td>0.691</td>\n",
       "      <td>12.5</td>\n",
       "    </tr>\n",
       "  </tbody>\n",
       "</table>\n",
       "</div>"
      ],
      "text/plain": [
       "    Country  Year      Status  Life_expectancy  Adult_Mortality  \\\n",
       "565   China  2010  Developing             75.0              9.2   \n",
       "\n",
       "     infant_deaths  Alcohol  percentage_expenditure  Hepatitis_B  Measles  \\\n",
       "565            231     5.75                5.660755           99    38159   \n",
       "\n",
       "      BMI  under-five_deaths  Polio  Total_expenditure  Diphtheria  HIV/AIDS  \\\n",
       "565  28.1                268     99               4.89          99       0.1   \n",
       "\n",
       "     thinness_1-19_years  thinness_5-9 years  Income_composition_of_resources  \\\n",
       "565                  4.2                 3.6                            0.691   \n",
       "\n",
       "     Schooling  \n",
       "565       12.5  "
      ]
     },
     "execution_count": 80,
     "metadata": {},
     "output_type": "execute_result"
    }
   ],
   "source": [
    "# Let's get the reference life expectancy\n",
    "LE_75 = Life_data[(Life_data[\"Adult_Mortality\"] == 9.2) & (Life_data[\"infant_deaths\"] == 231) & (Life_data[\"BMI\"] == 28.1)]\n",
    "print(\"Reference Life: \")\n",
    "LE_75"
   ]
  },
  {
   "cell_type": "code",
   "execution_count": 81,
   "metadata": {},
   "outputs": [
    {
     "name": "stdout",
     "output_type": "stream",
     "text": [
      "RSS feature set 1: 25929.63324223521 \n",
      "RSS feature set 2: 20954.60024278272\n",
      "* ------------- * ------------- *\n",
      "Prediction using feature set 1: 71.04223880588732 \n",
      "Prediction using feature set 2: 69.7570987342817\n"
     ]
    }
   ],
   "source": [
    "feature_set_1 = [\"Adult_Mortality\", \"infant_deaths\"]\n",
    "feature_set_2 = [\"Adult_Mortality\", \"infant_deaths\", \"BMI\"]\n",
    "train_Y = train_data[\"Life_expectancy\"]\n",
    "val_Y = valid_data[\"Life_expectancy\"]\n",
    "test_Y = test_data[\"Life_expectancy\"]\n",
    "\n",
    "# Training on feature set 1\n",
    "train_X = train_data[feature_set_1]\n",
    "reg1 = LinearRegression(fit_intercept=True).fit(train_X, train_Y)\n",
    "\n",
    "# Validation RSS on feature set 1\n",
    "val_X = valid_data[feature_set_1]\n",
    "predictions = reg1.predict(val_X)\n",
    "adult_infant_rss = rss(val_Y, predictions)\n",
    "\n",
    "# Training on feature set 2\n",
    "train_X = train_data[feature_set_2]\n",
    "reg2 = LinearRegression(fit_intercept=True).fit(train_X, train_Y)\n",
    "\n",
    "# Validation RSS on feature set 2\n",
    "val_X = valid_data[feature_set_2]\n",
    "predictions = reg2.predict(val_X)\n",
    "adult_infant_bmi_rss = rss(val_Y, predictions)\n",
    "\n",
    "print(f\"RSS feature set 1: {adult_infant_rss} \\nRSS feature set 2: {adult_infant_bmi_rss}\")\n",
    "print(\"* ------------- * ------------- *\")\n",
    "print(f\"Prediction using feature set 1: {reg1.predict(LE_75[feature_set_1])[0]} \\nPrediction using feature set 2: {reg2.predict(LE_75[feature_set_2])[0]}\")\n",
    "\n",
    "# Computing RSS for test data\n",
    "best_feature_set = None\n",
    "best_coef = None\n",
    "if adult_infant_rss < adult_infant_bmi_rss:\n",
    "    best_feature_set = feature_set_1\n",
    "    best_coef = reg1.coef_\n",
    "else:\n",
    "    best_feature_set = feature_set_2\n",
    "    best_coef = reg2.coef_\n",
    "\n",
    "test_X = test_data[best_feature_set]\n",
    "best_multi_rss = rss(test_Y, predict(test_X, best_coef))"
   ]
  },
  {
   "cell_type": "markdown",
   "metadata": {},
   "source": [
    "**--- YOUR ANSWER HERE ---**\n",
    "\n",
    "1. As shown above, feature set 2 - `[\"Adult_Mortality\", \"infant_deaths\", \"BMI\"]` has a lower RSS and hence better accuracy on an average\n",
    "2. As shown above, the predicted life expectancy using feature set 1 is `71.042` while that using feature set 2 is `69.757`. Thus feature set 2 is closer to the ground truth."
   ]
  },
  {
   "cell_type": "code",
   "execution_count": 82,
   "metadata": {},
   "outputs": [
    {
     "name": "stdout",
     "output_type": "stream",
     "text": [
      "RSS for the best multi-attribute model on the TEST data: 2.926565e+06\n"
     ]
    }
   ],
   "source": [
    "print(\"RSS for the best multi-attribute model on the TEST data: %e\" % (best_multi_rss))"
   ]
  },
  {
   "cell_type": "markdown",
   "metadata": {},
   "source": [
    "### Step 5: Use Lasso regression to select a subset of features which are relevant for predicting life expectancy"
   ]
  },
  {
   "cell_type": "markdown",
   "metadata": {},
   "source": [
    "In this step you will start with a long list of features, and try to eliminate non-relevant ones by using Lasso regression. You will try different lambdas, find the best lambda value.\n",
    "\n",
    "First we define the starting set of features to use in our model."
   ]
  },
  {
   "cell_type": "code",
   "execution_count": 83,
   "metadata": {},
   "outputs": [],
   "source": [
    "all_features = ['Year',\n",
    "                'Adult_Mortality', \n",
    "                'infant_deaths',\n",
    "                'Alcohol', 'percentage_expenditure', 'Hepatitis_B', \n",
    "                'Measles', 'BMI', 'under-five_deaths',\n",
    "                'Polio', 'Total_expenditure',\n",
    "               'Diphtheria','HIV/AIDS','thinness_1-19_years','thinness_5-9 years',\n",
    "                'Income_composition_of_resources', 'Schooling']\n",
    "\n",
    "train_data_all = train_data[all_features]"
   ]
  },
  {
   "cell_type": "markdown",
   "metadata": {},
   "source": [
    "**A warm-up task**: create a Lasso model with lambda=0.1 (set parameter `alpha=0.1` for the sklearn Lasso model).\n",
    "To make the iterative calculation converge, use parameters `normalize=True` and `max_iter=100000` for the Lasso model.\n",
    "\n",
    "Fit the model on training data, then evaluate RSS on VALIDATION data. Store the RSS in variable `lasso_warmup_rss`."
   ]
  },
  {
   "cell_type": "code",
   "execution_count": 84,
   "metadata": {},
   "outputs": [
    {
     "name": "stdout",
     "output_type": "stream",
     "text": [
      "26768.214303990055\n"
     ]
    }
   ],
   "source": [
    "# TODO - your code here\n",
    "\n",
    "# Training\n",
    "train_X = train_data_all\n",
    "train_Y = train_data[\"Life_expectancy\"]\n",
    "val_X = valid_data[all_features]\n",
    "val_Y = valid_data[\"Life_expectancy\"]\n",
    "reg = Lasso(alpha=0.1, normalize=True, max_iter=100000).fit(train_X, train_Y)\n",
    "predictions = reg.predict(val_X)\n",
    "lasso_warmup_rss = rss(val_Y, predictions)\n",
    "\n",
    "print(lasso_warmup_rss)"
   ]
  },
  {
   "cell_type": "markdown",
   "metadata": {},
   "source": [
    "**Next task:** Find which attributes have non-zero weights, print out their names and weights. Hint: create a function `print_nonzero_weights`, you will need it later."
   ]
  },
  {
   "cell_type": "code",
   "execution_count": 85,
   "metadata": {},
   "outputs": [
    {
     "name": "stdout",
     "output_type": "stream",
     "text": [
      "Adult_Mortality: -0.0982757025527663\n",
      "Schooling: 0.7122237664767337\n"
     ]
    }
   ],
   "source": [
    "# TODO - your code here\n",
    "def print_nonzero_weights(attributes, coef):\n",
    "    for idx in range(0, len(coef)):\n",
    "        if(coef[idx] != 0):\n",
    "            print(f\"{attributes[idx]}: {coef[idx]}\")\n",
    "\n",
    "print_nonzero_weights(all_features, reg.coef_)"
   ]
  },
  {
   "cell_type": "markdown",
   "metadata": {},
   "source": [
    "Now you will find the best lambda parameter for this model. \n",
    "\n",
    "**Do the following**:\n",
    "* Iterate over lambda values from 0.1 to 10000 (use the `penalties` array, already given, see below). For each lambda:\n",
    "  * Train a Lasso model, using the given input features (`train_data_all`). Set `alpha` parameter to your lambda value,  and `normalize=True` to penalize all attributes equally. Remember parameter `max_iter=100000`.\n",
    "  * Calculate RSS for the model on VALIDATION data set.\n",
    "* Find out which lambda had the lowest RSS value, store it as variable `best_lambda`.\n",
    "* Print the non-zero weights for this model. Print also the intercept.\n",
    "\n",
    "Hint: do not use `lambda` as variable name, it is a reserved keyword in Python!\n",
    "\n",
    "Hint #2: Don't be surprised that the best model will probably be with the lowest lambda. It just shows that leaving out certain features would not give a more accurate model.\n",
    "\n",
    "**Reflection question:** Which of the 17 initial parameters was \"discarded\" by the Lasso regression as an insignificant attribute?\n",
    "\n",
    "**--- YOUR ANSWER HERE ---**  \n",
    "When we get the least value of rss, ie. best possible value of lambda, the model considers all attributes to be insignificant. "
   ]
  },
  {
   "cell_type": "code",
   "execution_count": 86,
   "metadata": {},
   "outputs": [
    {
     "name": "stdout",
     "output_type": "stream",
     "text": [
      "Year: -0.022939597314719853\n",
      "Adult_Mortality: -0.17712146317165806\n",
      "infant_deaths: 0.08617139893360873\n",
      "Alcohol: 0.08684854783971607\n",
      "percentage_expenditure: 0.0004517363720859095\n",
      "Hepatitis_B: -0.004537165525022533\n",
      "Measles: -2.2046941302913923e-05\n",
      "BMI: 0.039181700879840235\n",
      "under-five_deaths: -0.06411971901305817\n",
      "Polio: 0.0323664806909687\n",
      "Total_expenditure: -0.0674415255110097\n",
      "Diphtheria: 0.030340758683275317\n",
      "HIV/AIDS: -0.5155996814396291\n",
      "thinness_1-19_years: -0.04797008905968007\n",
      "thinness_5-9 years: 0.004143785456149918\n",
      "Income_composition_of_resources: 0.778783819548255\n",
      "Schooling: 1.0434005980406502\n"
     ]
    }
   ],
   "source": [
    "penalties = np.logspace(-4, 3, num=30)\n",
    "best_lambda = None\n",
    "lowest_lasso_rss = None\n",
    "excluded_features = None\n",
    "intercept = None\n",
    "best_lasso_model = None\n",
    "\n",
    "train_X = train_data_all\n",
    "val_X = valid_data[all_features]\n",
    "train_Y = train_data[\"Life_expectancy\"]\n",
    "val_Y = valid_data[\"Life_expectancy\"]\n",
    "\n",
    "for l in penalties:\n",
    "    reg = Lasso(alpha=l, normalize=True, max_iter=100000).fit(train_X, train_Y)\n",
    "    predictions = reg.predict(val_X)\n",
    "    rss_computed = rss(val_Y, predictions)\n",
    "    \n",
    "    if lowest_lasso_rss == None or rss_computed < lowest_lasso_rss:\n",
    "        lowest_lasso_rss = rss_computed\n",
    "        best_lambda = l\n",
    "        best_lasso_model = reg\n",
    "    break\n",
    "        \n",
    "# Printing non-zero coefs for attributes\n",
    "print_nonzero_weights(all_features, best_lasso_model.coef_)"
   ]
  },
  {
   "cell_type": "code",
   "execution_count": 87,
   "metadata": {},
   "outputs": [],
   "source": [
    "# The best lambda should be 0.0001\n",
    "assert best_lambda == 0.0001"
   ]
  },
  {
   "cell_type": "markdown",
   "metadata": {},
   "source": [
    "### Step 6: Additional Lasso challenge"
   ]
  },
  {
   "cell_type": "markdown",
   "metadata": {},
   "source": [
    "Sometimes you may want to select a limited number of attributes that predict the output reasonably well. \n",
    "\n",
    "**The task** in this step is to find a lambda such that the **number of non-zero weights is reduced to three**. You should try to get the lambda as small as possible, but don't go too far, it is ok to have a lambda that is reasonably close to the minimal possible. \n",
    "\n",
    "Hint: you will probably get the lambda around 0.0535.\n",
    "\n",
    "Fit a model using Lasso regression and `train_data_all` features.\n",
    "\n",
    "Print the names of attributes having non-zero weights, and print the weights as well."
   ]
  },
  {
   "cell_type": "code",
   "execution_count": 91,
   "metadata": {},
   "outputs": [
    {
     "name": "stdout",
     "output_type": "stream",
     "text": [
      "Adult_Mortality: -0.1503902662521469\n",
      "HIV/AIDS: -0.24563580963736445\n",
      "Schooling: 1.1134814207357722\n",
      "* ------------- * ------------- *\n",
      "Lambda: 0.053603603603603604\n"
     ]
    }
   ],
   "source": [
    "# TODO - your code here\n",
    "def count_num_nonzero(coefs):\n",
    "    count = 0\n",
    "    for coef in coefs:\n",
    "        count += 1 if coef != 0 else 0\n",
    "    return count\n",
    "\n",
    "train_X = train_data_all\n",
    "train_Y = train_data[\"Life_expectancy\"]\n",
    "val_X = valid_data[all_features]\n",
    "val_Y = valid_data[\"Life_expectancy\"]\n",
    "\n",
    "resolution = 1000\n",
    "start_l = 0.1\n",
    "end_l = 0.01\n",
    "range_l = np.linspace(start_l, end_l, resolution, endpoint=True) \n",
    "\n",
    "best_model = None\n",
    "lowest_rss = None\n",
    "lowest_l = None\n",
    "\n",
    "for l in range_l:\n",
    "    reg = Lasso(alpha=l, normalize=True, max_iter=100000).fit(train_X, train_Y)\n",
    "    if count_num_nonzero(reg.coef_) > 3:\n",
    "        break\n",
    "        \n",
    "    predictions = reg.predict(val_X)\n",
    "    rss_computed = rss(val_Y, predictions)\n",
    "    if lowest_rss == None or lowest_rss > rss_computed:\n",
    "        lowest_l = l\n",
    "        lowest_rss = rss_computed\n",
    "        best_model = reg\n",
    "    \n",
    "print_nonzero_weights(all_features, best_model.coef_)\n",
    "print(\"* ------------- * ------------- *\")\n",
    "print(f\"Lambda: {lowest_l}\")"
   ]
  },
  {
   "cell_type": "markdown",
   "metadata": {},
   "source": [
    "## Reflection "
   ]
  },
  {
   "cell_type": "markdown",
   "metadata": {},
   "source": [
    "Please reflect on the following questions:\n",
    "1. How did the assignment go? Was it easy or hard?  \n",
    "A. It was slightly challenging.\n",
    "\n",
    "2. How many hours did you spend on it?  \n",
    "A. 3.5hrs\n",
    "\n",
    "3. What materials did you use to study the concepts necessary for the assignment?  \n",
    "A. I just went through your slides and looked up the internet whenever needed."
   ]
  },
  {
   "cell_type": "markdown",
   "metadata": {},
   "source": [
    "## Hints"
   ]
  },
  {
   "cell_type": "markdown",
   "metadata": {},
   "source": [
    "1. package `sklearn.linear_model` has all the functions you need to create [linear regression](http://scikit-learn.org/stable/modules/generated/sklearn.linear_model.LinearRegression.html), [Ridge regression](http://scikit-learn.org/stable/modules/generated/sklearn.linear_model.Ridge.html) and [Lasso regression](http://scikit-learn.org/stable/modules/generated/sklearn.linear_model.Lasso.html). Parameter lambda is called `alpha` in this package.\n",
    "2. For a simple linear regression with one input attribute, it is easier to use [`scipy.stats.linregress`](https://docs.scipy.org/doc/scipy/reference/generated/scipy.stats.linregress.html) function."
   ]
  }
 ],
 "metadata": {
  "kernelspec": {
   "display_name": "Python 3 (ipykernel)",
   "language": "python",
   "name": "python3"
  },
  "language_info": {
   "codemirror_mode": {
    "name": "ipython",
    "version": 3
   },
   "file_extension": ".py",
   "mimetype": "text/x-python",
   "name": "python",
   "nbconvert_exporter": "python",
   "pygments_lexer": "ipython3",
   "version": "3.10.4"
  }
 },
 "nbformat": 4,
 "nbformat_minor": 4
}
