{
 "cells": [
  {
   "cell_type": "markdown",
   "metadata": {},
   "source": [
    "# Assignment 3 - Regression"
   ]
  },
  {
   "cell_type": "markdown",
   "metadata": {},
   "source": [
    "Course \"Data processing and Visualization\", IE500417, NTNU. Fall 2021\n",
    "\n",
    "https://www.ntnu.edu/studies/courses/IE500417"
   ]
  },
  {
   "cell_type": "markdown",
   "metadata": {},
   "source": [
    "**Note: plagiarism is strictly forbidden! You should never copy any source code from other students. If you use any code written by others (except the standards libraries: NumPy, SciPy, Pandas, etc), provide a reference.**\n",
    "\n",
    "**If the teachers see that your work is mostly copy+paste from online code snippets, the grade can be reduced.**\n",
    "\n",
    "**If a case of plagiarism is detected, it will be reported to the administration.**"
   ]
  },
  {
   "cell_type": "markdown",
   "metadata": {},
   "source": [
    "## Task description"
   ]
  },
  {
   "cell_type": "markdown",
   "metadata": {},
   "source": [
    "In this assignment you will practice regression modelling. We will use a [data set on life expectancy from WHO]. It has been adjusted from the original datasets. The tasks will be to develop different regression models to predict life expectancy of different countries in different years based on their attributes:\n",
    "1. Simple linear regresion: predict life expectancy with a given adult mortality\n",
    "2. Calculate residual sum of squares (RSS) to assess model accuracy\n",
    "3. Compare several polynomial models, find the one with the best RSS\n",
    "4. Use multiple regression to predict life expectancy based on several features\n",
    "5. Use Lasso regression to select a subset of features which are relevant for predicting life expectancy\n",
    "6. Use Lasso regression to select a subset of specific size with most relevant features"
   ]
  },
  {
   "cell_type": "markdown",
   "metadata": {},
   "source": [
    "## Submission details"
   ]
  },
  {
   "cell_type": "markdown",
   "metadata": {},
   "source": [
    "The assignment must be handed in on Blackboard. The following must be handed in:\n",
    "1. Report in PDF or HTML format describing the results of this assignment. Preferably, it is generated from the Jupyter notebook you used (Hint: In Jupyter: File > Download as > HTML). Alternatively (if you use plain Python or other tools), prepare a readable report that contains figures and source code snippets necessary to understand your work.\n",
    "2. Source code that you used to generate the results. This could be the the Jupyter notebook file, python source files, Matlab files, etc.\n",
    "\n",
    "Deadlines and grading information on Blackboard."
   ]
  },
  {
   "cell_type": "markdown",
   "metadata": {},
   "source": [
    "## Detailed steps"
   ]
  },
  {
   "cell_type": "markdown",
   "metadata": {},
   "source": [
    "### Step 0: Prepare the data"
   ]
  },
  {
   "cell_type": "code",
   "execution_count": null,
   "metadata": {},
   "outputs": [],
   "source": [
    "import pandas as pd\n",
    "import numpy as np"
   ]
  },
  {
   "cell_type": "code",
   "execution_count": null,
   "metadata": {},
   "outputs": [],
   "source": [
    "# Read CSV file from Life-Expectancy-Data\n",
    "\n",
    "Life_data = pd.read_csv(\"Life-Expectancy-Data.csv\")\n",
    "print(\"Number of samples:\", len(Life_data))"
   ]
  },
  {
   "cell_type": "code",
   "execution_count": null,
   "metadata": {},
   "outputs": [],
   "source": [
    "Life_data.info()"
   ]
  },
  {
   "cell_type": "markdown",
   "metadata": {},
   "source": [
    "The ID attribute is not useful for processing. GDP and Population data are not complete. So, we remove them from the fields."
   ]
  },
  {
   "cell_type": "code",
   "execution_count": null,
   "metadata": {},
   "outputs": [],
   "source": [
    "Life_data = Life_data.drop([\"ID\",\"GDP\",\"Population\"], axis=\"columns\")"
   ]
  },
  {
   "cell_type": "markdown",
   "metadata": {},
   "source": [
    "We will later need three sub-sets of data: training data, validation data (to select best lambda for parametrized models) and test data. We will split the data into these three subsets: 60% for training, 20% for validation, 20% for testing."
   ]
  },
  {
   "cell_type": "markdown",
   "metadata": {},
   "source": [
    "We use the DataFrame.sample() function to split the dataset. The `random_state` values are used for reproducibility. All the students should get the same three subsets of data. "
   ]
  },
  {
   "cell_type": "code",
   "execution_count": null,
   "metadata": {},
   "outputs": [],
   "source": [
    "train_data = Life_data.sample(frac=0.6, random_state=12)\n",
    "valid_and_test = Life_data.drop(train_data.index)\n",
    "valid_data = valid_and_test.sample(frac=0.5, random_state=62)\n",
    "test_data = valid_and_test.drop(valid_data.index)"
   ]
  },
  {
   "cell_type": "markdown",
   "metadata": {},
   "source": [
    "Now we check the statistics for the original data and subsets."
   ]
  },
  {
   "cell_type": "code",
   "execution_count": null,
   "metadata": {},
   "outputs": [],
   "source": [
    "Life_data[\"Life_expectancy\"].describe()"
   ]
  },
  {
   "cell_type": "code",
   "execution_count": null,
   "metadata": {},
   "outputs": [],
   "source": [
    "train_data[\"Life_expectancy\"].describe()"
   ]
  },
  {
   "cell_type": "code",
   "execution_count": null,
   "metadata": {},
   "outputs": [],
   "source": [
    "valid_data[\"Life_expectancy\"].describe()"
   ]
  },
  {
   "cell_type": "code",
   "execution_count": null,
   "metadata": {},
   "outputs": [],
   "source": [
    "test_data[\"Life_expectancy\"].describe()"
   ]
  },
  {
   "cell_type": "markdown",
   "metadata": {},
   "source": [
    "Except the min and max values, Life expectancy are quite ok distributed in the subsets. "
   ]
  },
  {
   "cell_type": "markdown",
   "metadata": {},
   "source": [
    "Note: your algorithms should be efficient! For example, when you calculate RSS or create feature matrix (you will see that later), if you do the calculations element-by-element, you will have very slow code. You should use the power of Pandas and Numpy packages and do operations on lists directly. One example: if you want to create a new column called `c` in a dataframe which is a sum of two other columns `a` and `b`, this is a more efficient way:"
   ]
  },
  {
   "cell_type": "code",
   "execution_count": null,
   "metadata": {},
   "outputs": [],
   "source": [
    "# dataframe[\"c\"] = dataframe[\"a\"] + dataframe[\"b\"]"
   ]
  },
  {
   "cell_type": "markdown",
   "metadata": {},
   "source": [
    "This would also work (assuming that rows are indexed by numbers, not timestamps, etc), but will be much slower:"
   ]
  },
  {
   "cell_type": "code",
   "execution_count": null,
   "metadata": {},
   "outputs": [],
   "source": [
    "# dataframe[\"c\"] = 0\n",
    "# for i in range(len(dataframe)):\n",
    "#    dataframe[\"c\"][i] = dataframe[\"a\"][i] + dataframe[\"b\"][i]"
   ]
  },
  {
   "cell_type": "markdown",
   "metadata": {},
   "source": [
    "### Step 1: Linear regression"
   ]
  },
  {
   "cell_type": "markdown",
   "metadata": {},
   "source": [
    "**The task**: create a linear model that predicts life expectancy of a country at a year based on its adult mortality (attribute `Adult_Mortality`). \n",
    "Train the model on TRAINING data set!\n",
    "\n",
    "When you are done, store the intercept and slope (weights w0 and w1) in variables `am_w0` and `am_w1` respectively."
   ]
  },
  {
   "cell_type": "code",
   "execution_count": null,
   "metadata": {},
   "outputs": [],
   "source": [
    "# TODO - your code here\n",
    "# ...\n",
    "am_w0 = ...\n",
    "am_w1 = ..."
   ]
  },
  {
   "cell_type": "code",
   "execution_count": null,
   "metadata": {},
   "outputs": [],
   "source": [
    "print(\"Linear model: life expectancy = %f + %f * Adult_Mortality\" % (am_w0, am_w1))"
   ]
  },
  {
   "cell_type": "markdown",
   "metadata": {},
   "source": [
    "**Quiz questions**: \n",
    "1. Look at the data. How can you interpret the slope coefficient `am_w1`? It will probably be around -0.52. What does it mean?\n",
    "2. What is the maximum life expectancy for this linear model to make sense?"
   ]
  },
  {
   "cell_type": "markdown",
   "metadata": {},
   "source": [
    "**--- YOUR ANSWER HERE ---**"
   ]
  },
  {
   "cell_type": "markdown",
   "metadata": {},
   "source": [
    "Now we can calculate predicted life expectancy and take a look at the regression line. First, we sort the values by mortality, to get a reasonable line in the plot."
   ]
  },
  {
   "cell_type": "code",
   "execution_count": null,
   "metadata": {},
   "outputs": [],
   "source": [
    "train_am_sorted = train_data.sort_values(\"Adult_Mortality\")\n",
    "predicted_life = am_w0 + am_w1 * train_am_sorted[\"Adult_Mortality\"]"
   ]
  },
  {
   "cell_type": "code",
   "execution_count": null,
   "metadata": {},
   "outputs": [],
   "source": [
    "import matplotlib.pyplot as plt\n",
    "%matplotlib inline"
   ]
  },
  {
   "cell_type": "code",
   "execution_count": null,
   "metadata": {},
   "outputs": [],
   "source": [
    "# Plot a linear model that predicts life expectancy based on adult mortality\n",
    "def plot_am_model(amr, predicted_life, observed_life):\n",
    "    plt.figure(figsize=(5,5))\n",
    "    plt.plot(amr, observed_life, \"c.\")\n",
    "    plt.plot(amr, predicted_life, \"k-\")\n",
    "    plt.xlabel(\"Adult mortality rate\")\n",
    "    plt.ylabel(\"Life expectancy, years\")\n",
    "    plt.plot()"
   ]
  },
  {
   "cell_type": "code",
   "execution_count": null,
   "metadata": {},
   "outputs": [],
   "source": [
    "plot_am_model(train_am_sorted[\"Adult_Mortality\"], predicted_life, train_am_sorted[\"Life_expectancy\"])"
   ]
  },
  {
   "cell_type": "markdown",
   "metadata": {},
   "source": [
    "### Step 2: Calculate residual sum of squares (RSS) to assess model accuracy"
   ]
  },
  {
   "cell_type": "markdown",
   "metadata": {},
   "source": [
    "One way to estimate error for a given model is to calculate residual sum of squares (RSS). The general formula:\n",
    "\n",
    "\\begin{equation*}\n",
    " RSS = \\sum_{i=1}^n r_i^2 = \\sum_{i=1}^n (y_i - \\hat{y}_i)^2\n",
    "\\end{equation*}\n",
    "\n",
    "Where $r_i$ is the i-th residual, $y_i$ is the i-th observed output, $\\hat{y}_i$ is the i-th output predicted by the model. \n",
    "\n",
    "In this simple case of linear regression with single input attribute:\n",
    "\n",
    "\\begin{equation*}\n",
    " RSS = \\sum_{i=1}^n (y_i - (w_0 + w_1 * x_i))^2\n",
    "\\end{equation*}\n"
   ]
  },
  {
   "cell_type": "markdown",
   "metadata": {},
   "source": [
    "But before we can calculate RSS, we need to calculate values predicted by our linear model.\n",
    "\n",
    "**Your task:** Calculated life expectancy predicted by the linear model in the TEST data set. Hint: use \"Adult_Mortality\" column from `test_data` DataFrame."
   ]
  },
  {
   "cell_type": "code",
   "execution_count": null,
   "metadata": {},
   "outputs": [],
   "source": [
    "# TODO - Your code here\n",
    "predicted_test_life = ..."
   ]
  },
  {
   "cell_type": "markdown",
   "metadata": {},
   "source": [
    "**Your task:** Write a function that calculates the residual sum of squares."
   ]
  },
  {
   "cell_type": "code",
   "execution_count": null,
   "metadata": {},
   "outputs": [],
   "source": [
    "# Function that calculates residual sum of squares\n",
    "# param y: the observer outputs\n",
    "# param y_hat: the outputs predicted by a model\n",
    "# return: RSS value, floating point\n",
    "def rss(y, y_hat):\n",
    "    # TODO - your code here\n",
    "    pass    "
   ]
  },
  {
   "cell_type": "markdown",
   "metadata": {},
   "source": [
    "Now we can calculate the RSS using test data set."
   ]
  },
  {
   "cell_type": "code",
   "execution_count": null,
   "metadata": {},
   "outputs": [],
   "source": [
    "observed_test_life = test_data[\"Life_expectancy\"]\n",
    "rss_simple = rss(observed_test_life, predicted_test_life)\n",
    "print(\"RSS for our linear model for TEST data: %e\" % rss_simple)"
   ]
  },
  {
   "cell_type": "markdown",
   "metadata": {},
   "source": [
    "We can also look at the mean absolute error (MAE):\n",
    "\\begin{equation*}\n",
    " MAE = \\frac{1}{n}\\sum_{i=1}^n |y_i - \\hat{y}_i|\n",
    "\\end{equation*}"
   ]
  },
  {
   "cell_type": "code",
   "execution_count": null,
   "metadata": {},
   "outputs": [],
   "source": [
    "# Calculate Mean Absolute error based on observed (sampled) and model-predicted life expectancy\n",
    "# return: a floating point number\n",
    "def MAE(observed_life, predicted_life):\n",
    "    n = len(observed_life)\n",
    "    differences = observed_life - predicted_life\n",
    "    absolute_differences = differences.abs()\n",
    "    return absolute_differences.sum() / n\n",
    "    \n",
    "mae = MAE(observed_test_life, predicted_test_life)\n",
    "print(\"On average, our model predicts life expectancy %.1f years away from the observed value\" % mae)"
   ]
  },
  {
   "cell_type": "markdown",
   "metadata": {},
   "source": [
    "Although the error seems to be quite large in absolute numbers, if we look at the life expectancy and linear model chart above, it is not that surprising. The point cloud is wide and the line is indeed not a very accurate representation."
   ]
  },
  {
   "cell_type": "markdown",
   "metadata": {},
   "source": [
    "Let us do some unit-testing to check if you got expected results:"
   ]
  },
  {
   "cell_type": "code",
   "execution_count": null,
   "metadata": {},
   "outputs": [],
   "source": [
    "assert predicted_test_life.sum() >= 37000\n",
    "assert predicted_test_life.sum() <= 42000\n",
    "\n",
    "assert rss_simple >= 2.3e4\n",
    "assert rss_simple <= 2.8e4\n",
    "\n",
    "assert mae >= 4\n",
    "assert mae <= 6"
   ]
  },
  {
   "cell_type": "markdown",
   "metadata": {},
   "source": [
    "### Step 3: Compare several polynomial models, find the one with the best RSS"
   ]
  },
  {
   "cell_type": "markdown",
   "metadata": {},
   "source": [
    "In this task we will look at polynomial relationships between adult mortality and life expectancy. To do that, we will create generated features. Feature h1 in the data will be $adult\\_mortality$, h2 will be $adult\\_mortality^2$, etc. We will prepare a feature matrix that we can use for regression calculations. \n",
    "\n",
    "**Task:** First, let's create a function that generates feature matrix containing polynomial with given powers of a single input attribute. For example, if we pass `adult_mortality` samples as input attribute and specify `powers=[1, 3, 4]`, then we should get a matrix with three columns out: $adult\\_mortality, adult\\_mortality^3, adult\\_mortality^4 $."
   ]
  },
  {
   "cell_type": "code",
   "execution_count": null,
   "metadata": {},
   "outputs": [],
   "source": [
    "# A function that takes one input feature and returns a matrix. Each column in the matrix is a power of the input attribute\n",
    "# param input_attr_col - one column of data, input attribute samples. Either pandas.Series or Numpy array\n",
    "# param powers - a list (array) containing the desired powers to be created\n",
    "# \n",
    "# Return a DataFrame containing the feature matrix. Use column names h1, h2, h7, etc: hX means \n",
    "#  \"input attribute to the power X\"\n",
    "def create_feature_matrix(input_attr_col, powers):\n",
    "    # TODO - your code here\n",
    "    return []"
   ]
  },
  {
   "cell_type": "markdown",
   "metadata": {},
   "source": [
    "Let's create some tests to see if the function works correctly. If the next code block fails to execute, you probably have an error in your `creat_feature_matrix` function."
   ]
  },
  {
   "cell_type": "code",
   "execution_count": null,
   "metadata": {},
   "outputs": [],
   "source": [
    "a = np.array([1, 2, -5])\n",
    "a1 = create_feature_matrix(a, [1])\n",
    "a2 = create_feature_matrix(a, [1, 3, 5])\n",
    "a3 = create_feature_matrix(a, [4, 2])\n",
    "\n",
    "a1_exp = pd.DataFrame(data = {\"h1\" : a})\n",
    "a2_exp = pd.DataFrame(data = {\"h1\" : a, \"h3\" : a ** 3, \"h5\": a ** 5})\n",
    "a3_exp = pd.DataFrame(data = {\"h4\" : a ** 4, \"h2\" : a ** 2})\n",
    "\n",
    "assert a1_exp.equals(a1)\n",
    "assert a2_exp.equals(a2)\n",
    "assert a3_exp.equals(a3)"
   ]
  },
  {
   "cell_type": "markdown",
   "metadata": {},
   "source": [
    "We can also define a function that will predict outcomes based on input feature matrix and weights found by a model."
   ]
  },
  {
   "cell_type": "code",
   "execution_count": null,
   "metadata": {},
   "outputs": [],
   "source": [
    "def predict(input_features, weights):\n",
    "    # Prediction is a dot product of feature matrix and weight vector\n",
    "    return input_features.dot(weights)"
   ]
  },
  {
   "cell_type": "markdown",
   "metadata": {},
   "source": [
    "For convenience you can use this method to print the polynomial formula that you got:"
   ]
  },
  {
   "cell_type": "code",
   "execution_count": null,
   "metadata": {},
   "outputs": [],
   "source": [
    "# Take weights and intercept that the linear regression returned, print the resulting \n",
    "#   polynomial formula in a (relatively) nice way\n",
    "# param weights: numpy array of weights w0, w1, w2, ..., wD (coefficients), in increasing order. \n",
    "# Note: the intercept is included here as well (as coefficient w0)\n",
    "def poly_print(weights):\n",
    "    print(np.poly1d(np.flip(weights, 0)))\n",
    "    print(\"\")"
   ]
  },
  {
   "cell_type": "markdown",
   "metadata": {},
   "source": [
    "There is one tricky thing - it is easier to predict outcome if the intercept is also included in the feature matrix as a column with constant 1 as the values. To do that properly, make sure that:\n",
    "1. When you create feature matrix, include 0 in the `powers` array. It will create a column with ones.\n",
    "2. When fitting the model, notify the model that it does not have to calculate intercept explicitly. For example, if you use `sklearn.linear_model.LinarRegression.fit()` function, set parameter `fit_intercept=False`.\n",
    "\n",
    "Now that we have the helper functions, we will create several polynomial regression models and find the best one. The degree of the polynomial is a parameter for our model. Therefore we will use the VALIDATION set when calculating, which polynomial gives the most accurate result. When we have found the best polynomial, we will evaluate its accuracy on the TEST data set.\n",
    "\n",
    "**Task for you now**.\n",
    "Variable `max_power` will iterate from 1 to 20. For each `max_power` value:\n",
    "1. Generate feature matrix that contains the mortality rate of training data (`Adult_Mortality` column) polynomial with all powers from 1 to `max_power`. For example, if `max_power == 3`, you should have a feature matrix containing \\[constant 1, $Adult\\_Mortality$, $Adult\\_Mortality^2$ and $Adult\\_Mortality^3$\\].\n",
    "2. Fit a linear model using the feature matrix as input and life expectancy as predictable output. Hint: use [`sklearn.linear_model.LinearRegression`](http://scikit-learn.org/stable/modules/generated/sklearn.linear_model.LinearRegression.html)\n",
    "3. Predict output by the model on VALIDATION set. Hint: you need to generate a new feature matrix for the validation set.\n",
    "4. Calculate RSS for the model on VALIDATION set.\n",
    "5. Compare it with the best RSS found so far. If this RSS is better, save this model as the best one.\n",
    "\n",
    "At the end of this procedure, save information about the best model:\n",
    "1. Store minimum RSS in variable `best_rss`.\n",
    "2. Store best polynomial degree (power) in variable `best_max_power`.\n",
    "3. Store weights (coefficients) found by the model in variable `poly_weights`.\n",
    "4. Calculate RSS for the best polynomial model on TEST data. Store it in variable `best_poly_rss`.\n",
    "\n",
    "Then plot the observed samples and regression curve. Hint: for a better plot you may want to generate a list of increasing mortality values: from 0 to 70, with step 0.1 ([`numpy.arange()`](https://docs.scipy.org/doc/numpy/reference/generated/numpy.arange.html) function may be handy). Then generate a feature matrix from it and predict life expectancy based on your model. Then plot the life expectancy VS adult mortality."
   ]
  },
  {
   "cell_type": "code",
   "execution_count": null,
   "metadata": {},
   "outputs": [],
   "source": [
    "best_rss = None\n",
    "best_max_power = None\n",
    "poly_weights = None\n",
    "for max_power in range(1, 6):\n",
    "  # TODO - your code here\n",
    "  pass"
   ]
  },
  {
   "cell_type": "code",
   "execution_count": null,
   "metadata": {},
   "outputs": [],
   "source": [
    "print(\"Best model found for polynomial with degree %i\" % (best_max_power))\n",
    "print(\"It has RSS for TEST data: %e\" % (best_poly_rss))\n",
    "print(\"The polynomial:\")\n",
    "poly_print(poly_weights)"
   ]
  },
  {
   "cell_type": "markdown",
   "metadata": {},
   "source": [
    "Let's run some unit tests to see if your answer is according to the expectation:"
   ]
  },
  {
   "cell_type": "code",
   "execution_count": null,
   "metadata": {},
   "outputs": [],
   "source": [
    "assert best_max_power == 8\n",
    "\n",
    "assert poly_weights[0] >= 76\n",
    "assert poly_weights[0] <= 77\n",
    "assert poly_weights[1] >= -7\n",
    "assert poly_weights[1] <= -6\n",
    "assert poly_weights[2] >= 1.7\n",
    "assert poly_weights[2] <= 1.8\n",
    "assert poly_weights[3] >= -0.19\n",
    "assert poly_weights[3] <= -0.18\n",
    "assert poly_weights[4] >= 0.009\n",
    "assert poly_weights[4] <= 0.01\n",
    "\n",
    "assert best_poly_rss >= 1.8e4\n",
    "assert best_poly_rss <= 1.9e4\n",
    "\n",
    "print (\"All tests passed, the calculations are correct!\")"
   ]
  },
  {
   "cell_type": "markdown",
   "metadata": {},
   "source": [
    "### Step 4: Use multiple regression to predict life expectancy based on several features"
   ]
  },
  {
   "cell_type": "markdown",
   "metadata": {},
   "source": [
    "In this part you will predict life expectancy based on several attributes. \n",
    "\n",
    "**Do the following**:\n",
    "1. Create a linear model of predicting life expectancy based on adult mortality and infant deaths (`Adult_Mortality` and `infant_deaths` columns). Fit the model on TRAINING data.\n",
    "2. Calculate RSS for this model on VALIDATION data, store it in variable `adult_infant_rss`.\n",
    "3. Create another model: use attributes `Adult_Mortality`, `infant_deaths` and `BMI`. Fit it on TRAINING data.\n",
    "4. Calculate RSS for this model on VALIATION data, store it in variable `adult_infant_bmi_rss`.\n",
    "5. Compare the accuracy (RSS values) of the two models. Which one provides higher accuracy on average?\n",
    "6. There is a country in a certain year in the validation data with adult mortality 9.2, infant deaths 231, and attribute `BMI` is 28.1, life expectancy: 75.0 years old. What life expectancy do your two models predict for this country? Which model's predicted life expectancy is closer to the ground truth value (75.0)?\n",
    "7. Calculate RSS of the best model on TEST data. Store it in variable `best_multi_rss`."
   ]
  },
  {
   "cell_type": "code",
   "execution_count": null,
   "metadata": {},
   "outputs": [],
   "source": [
    "# Let's get the reference life expectancy\n",
    "LE_75 = Life_data[(Life_data[\"Adult_Mortality\"] == 9.2) & (Life_data[\"infant_deaths\"] == 231) & (Life_data[\"BMI\"] == 28.1)]\n",
    "print(\"Reference Life: \")\n",
    "LE_75"
   ]
  },
  {
   "cell_type": "code",
   "execution_count": null,
   "metadata": {},
   "outputs": [],
   "source": [
    "# TODO - your code here"
   ]
  },
  {
   "cell_type": "markdown",
   "metadata": {},
   "source": [
    "**--- YOUR ANSWER HERE ---**"
   ]
  },
  {
   "cell_type": "code",
   "execution_count": null,
   "metadata": {},
   "outputs": [],
   "source": [
    "print(\"RSS for the best multi-attribute model on the TEST data: %e\" % (best_multi_rss))"
   ]
  },
  {
   "cell_type": "markdown",
   "metadata": {},
   "source": [
    "### Step 5: Use Lasso regression to select a subset of features which are relevant for predicting life expectancy"
   ]
  },
  {
   "cell_type": "markdown",
   "metadata": {},
   "source": [
    "In this step you will start with a long list of features, and try to eliminate non-relevant ones by using Lasso regression. You will try different lambdas, find the best lambda value.\n",
    "\n",
    "First we define the starting set of features to use in our model."
   ]
  },
  {
   "cell_type": "code",
   "execution_count": null,
   "metadata": {},
   "outputs": [],
   "source": [
    "all_features = ['Year',\n",
    "                'Adult_Mortality', \n",
    "                'infant_deaths',\n",
    "                'Alcohol', 'percentage_expenditure', 'Hepatitis_B', \n",
    "                'Measles', 'BMI', 'under-five_deaths',\n",
    "                'Polio', 'Total_expenditure',\n",
    "               'Diphtheria','HIV/AIDS','thinness_1-19_years','thinness_5-9 years',\n",
    "                'Income_composition_of_resources', 'Schooling']\n",
    "\n",
    "train_data_all = train_data[all_features]"
   ]
  },
  {
   "cell_type": "markdown",
   "metadata": {},
   "source": [
    "**A warm-up task**: create a Lasso model with lambda=0.1 (set parameter `alpha=0.1` for the sklearn Lasso model).\n",
    "To make the iterative calculation converge, use parameters `normalize=True` and `max_iter=100000` for the Lasso model.\n",
    "\n",
    "Fit the model on training data, then evaluate RSS on VALIDATION data. Store the RSS in variable `lasso_warmup_rss`."
   ]
  },
  {
   "cell_type": "code",
   "execution_count": null,
   "metadata": {},
   "outputs": [],
   "source": [
    "# TODO - your code here\n",
    "lasso_warmup_rss = ..."
   ]
  },
  {
   "cell_type": "markdown",
   "metadata": {},
   "source": [
    "**Next task:** Find which attributes have non-zero weights, print out their names and weights. Hint: create a function `print_nonzero_weights`, you will need it later."
   ]
  },
  {
   "cell_type": "code",
   "execution_count": null,
   "metadata": {},
   "outputs": [],
   "source": [
    "# TODO - your code here"
   ]
  },
  {
   "cell_type": "markdown",
   "metadata": {},
   "source": [
    "Now you will find the best lambda parameter for this model. \n",
    "\n",
    "**Do the following**:\n",
    "* Iterate over lambda values from 0.1 to 10000 (use the `penalties` array, already given, see below). For each lambda:\n",
    "  * Train a Lasso model, using the given input features (`train_data_all`). Set `alpha` parameter to your lambda value,  and `normalize=True` to penalize all attributes equally. Remember parameter `max_iter=100000`.\n",
    "  * Calculate RSS for the model on VALIDATION data set.\n",
    "* Find out which lambda had the lowest RSS value, store it as variable `best_lambda`.\n",
    "* Print the non-zero weights for this model. Print also the intercept.\n",
    "\n",
    "Hint: do not use `lambda` as variable name, it is a reserved keyword in Python!\n",
    "\n",
    "Hint #2: Don't be surprised that the best model will probably be with the lowest lambda. It just shows that leaving out certain features would not give a more accurate model.\n",
    "\n",
    "**Reflection question:** Which of the 17 initial parameters was \"discarded\" by the Lasso regression as an insignificant attribute?\n",
    "\n",
    "**--- YOUR ANSWER HERE ---**"
   ]
  },
  {
   "cell_type": "code",
   "execution_count": null,
   "metadata": {},
   "outputs": [],
   "source": [
    "penalties = np.logspace(-4, 3, num=30)\n",
    "best_lambda = None\n",
    "for l in penalties:\n",
    "    # TODO - your code here\n",
    "    pass"
   ]
  },
  {
   "cell_type": "code",
   "execution_count": null,
   "metadata": {},
   "outputs": [],
   "source": [
    "# The best lambda should be 0.0001\n",
    "assert best_lambda == 0.0001"
   ]
  },
  {
   "cell_type": "markdown",
   "metadata": {},
   "source": [
    "### Step 6: Additional Lasso challenge"
   ]
  },
  {
   "cell_type": "markdown",
   "metadata": {},
   "source": [
    "Sometimes you may want to select a limited number of attributes that predict the output reasonably well. \n",
    "\n",
    "**The task** in this step is to find a lambda such that the **number of non-zero weights is reduced to three**. You should try to get the lambda as small as possible, but don't go too far, it is ok to have a lambda that is reasonably close to the minimal possible. \n",
    "\n",
    "Hint: you will probably get the lambda around 0.0535.\n",
    "\n",
    "Fit a model using Lasso regression and `train_data_all` features.\n",
    "\n",
    "Print the names of attributes having non-zero weights, and print the weights as well."
   ]
  },
  {
   "cell_type": "code",
   "execution_count": null,
   "metadata": {},
   "outputs": [],
   "source": [
    "# TODO - your code here"
   ]
  },
  {
   "cell_type": "markdown",
   "metadata": {},
   "source": [
    "## Reflection "
   ]
  },
  {
   "cell_type": "markdown",
   "metadata": {},
   "source": [
    "Please reflect on the following questions:\n",
    "1. How did the assignment go? Was it easy or hard?\n",
    "2. How many hours did you spend on it?\n",
    "3. What materials did you use to study the concepts necessary for the assignment?\n"
   ]
  },
  {
   "cell_type": "markdown",
   "metadata": {},
   "source": [
    "## Hints"
   ]
  },
  {
   "cell_type": "markdown",
   "metadata": {},
   "source": [
    "1. package `sklearn.linear_model` has all the functions you need to create [linear regression](http://scikit-learn.org/stable/modules/generated/sklearn.linear_model.LinearRegression.html), [Ridge regression](http://scikit-learn.org/stable/modules/generated/sklearn.linear_model.Ridge.html) and [Lasso regression](http://scikit-learn.org/stable/modules/generated/sklearn.linear_model.Lasso.html). Parameter lambda is called `alpha` in this package.\n",
    "2. For a simple linear regression with one input attribute, it is easier to use [`scipy.stats.linregress`](https://docs.scipy.org/doc/scipy/reference/generated/scipy.stats.linregress.html) function."
   ]
  }
 ],
 "metadata": {
  "kernelspec": {
   "display_name": "Python 3",
   "language": "python",
   "name": "python3"
  },
  "language_info": {
   "codemirror_mode": {
    "name": "ipython",
    "version": 3
   },
   "file_extension": ".py",
   "mimetype": "text/x-python",
   "name": "python",
   "nbconvert_exporter": "python",
   "pygments_lexer": "ipython3",
   "version": "3.6.2"
  }
 },
 "nbformat": 4,
 "nbformat_minor": 2
}
